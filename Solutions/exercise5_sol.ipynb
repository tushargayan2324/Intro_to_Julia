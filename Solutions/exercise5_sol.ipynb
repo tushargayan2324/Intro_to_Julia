{
 "cells": [
  {
   "attachments": {},
   "cell_type": "markdown",
   "metadata": {},
   "source": [
    "# 5.1)"
   ]
  },
  {
   "cell_type": "code",
   "execution_count": 2,
   "metadata": {},
   "outputs": [
    {
     "data": {
      "text/plain": [
       "evenodd (generic function with 1 method)"
      ]
     },
     "metadata": {},
     "output_type": "display_data"
    }
   ],
   "source": [
    "function evenodd(x)\n",
    "    if x%2 == 0\n",
    "        print(\"Even\")\n",
    "    else\n",
    "        print(\"Odd\")\n",
    "    end    \n",
    "end "
   ]
  },
  {
   "cell_type": "code",
   "execution_count": 8,
   "metadata": {},
   "outputs": [
    {
     "name": "stdout",
     "output_type": "stream",
     "text": [
      "Even"
     ]
    }
   ],
   "source": [
    "evenodd(8)"
   ]
  },
  {
   "attachments": {},
   "cell_type": "markdown",
   "metadata": {},
   "source": [
    "# 5.2)"
   ]
  },
  {
   "cell_type": "code",
   "execution_count": 9,
   "metadata": {},
   "outputs": [
    {
     "data": {
      "text/plain": [
       "even_odd_new (generic function with 1 method)"
      ]
     },
     "metadata": {},
     "output_type": "display_data"
    }
   ],
   "source": [
    "even_odd_new(x) =  (x%2 == 0) ? print(\"Even\") : print(\"Odd\")"
   ]
  },
  {
   "cell_type": "code",
   "execution_count": 10,
   "metadata": {},
   "outputs": [
    {
     "name": "stdout",
     "output_type": "stream",
     "text": [
      "Even"
     ]
    }
   ],
   "source": [
    "even_odd_new(2)"
   ]
  },
  {
   "attachments": {},
   "cell_type": "markdown",
   "metadata": {},
   "source": [
    "# 5.3)"
   ]
  },
  {
   "cell_type": "code",
   "execution_count": null,
   "metadata": {},
   "outputs": [],
   "source": [
    "function boundary_find(x)\n",
    "    if x < 2\n",
    "        print(\"x is less than 2\")\n",
    "    elseif x > 2\n",
    "        print(\"x is greater than 2\")\n",
    "    else\n",
    "        print(\"x is equal to 2\")\n",
    "    end\n",
    "end\n",
    "     "
   ]
  },
  {
   "cell_type": "code",
   "execution_count": 50,
   "metadata": {},
   "outputs": [
    {
     "data": {
      "text/plain": [
       "boundary_find (generic function with 1 method)"
      ]
     },
     "metadata": {},
     "output_type": "display_data"
    }
   ],
   "source": [
    "boundary_find(x) =  (x<2) ? print(\"x is less than 2\") : \n",
    "                    (x>2) ? print(\"x is greater than 2\") :\n",
    "                    print(\"x is equal to 2\")"
   ]
  },
  {
   "cell_type": "code",
   "execution_count": 51,
   "metadata": {},
   "outputs": [
    {
     "name": "stdout",
     "output_type": "stream",
     "text": [
      "x is less than 2"
     ]
    }
   ],
   "source": [
    "boundary_find(1.3)"
   ]
  },
  {
   "attachments": {},
   "cell_type": "markdown",
   "metadata": {},
   "source": [
    "# Optional exercise"
   ]
  },
  {
   "cell_type": "code",
   "execution_count": 54,
   "metadata": {},
   "outputs": [
    {
     "data": {
      "text/plain": [
       "Domain_of_func (generic function with 1 method)"
      ]
     },
     "metadata": {},
     "output_type": "display_data"
    }
   ],
   "source": [
    "function Domain_of_func(x)\n",
    "    if x < 2 && typeof(x) == Int\n",
    "        print(\"x is less than 2 and integer\")\n",
    "    elseif x > 2 && typeof(x) == Int\n",
    "        print(\"x is greater than 2 and integer\")\n",
    "    elseif x == 2\n",
    "        print(\"x is equal to 2\")\n",
    "    else\n",
    "        print(\"out of domain\")\n",
    "    end\n",
    "end"
   ]
  },
  {
   "cell_type": "code",
   "execution_count": 55,
   "metadata": {},
   "outputs": [
    {
     "data": {
      "text/plain": [
       "Domain_of_func (generic function with 1 method)"
      ]
     },
     "metadata": {},
     "output_type": "display_data"
    }
   ],
   "source": [
    "Domain_of_func(x) = (x<2 && typeof(x) == Int) ? print(\"x is less than 2 and integer\") : \n",
    "                    (x>2 && typeof(x) == Int) ? print(\"x is greater than 2 and integer\") :\n",
    "                    (x == 2) ? print(\"x is equal to 2\") : \n",
    "                    print(\"out of domain\")"
   ]
  },
  {
   "cell_type": "code",
   "execution_count": 48,
   "metadata": {},
   "outputs": [
    {
     "name": "stdout",
     "output_type": "stream",
     "text": [
      "out of domain"
     ]
    }
   ],
   "source": [
    "Domain_of_func(7)"
   ]
  }
 ],
 "metadata": {
  "kernelspec": {
   "display_name": "Julia 1.8.5",
   "language": "julia",
   "name": "julia-1.8"
  },
  "language_info": {
   "file_extension": ".jl",
   "mimetype": "application/julia",
   "name": "julia",
   "version": "1.8.5"
  },
  "orig_nbformat": 4,
  "vscode": {
   "interpreter": {
    "hash": "c6925f325ef2b9ef9a1676fd69fdc70cae23921f52e4d5dfaf1187ea8d3d1c7b"
   }
  }
 },
 "nbformat": 4,
 "nbformat_minor": 2
}
